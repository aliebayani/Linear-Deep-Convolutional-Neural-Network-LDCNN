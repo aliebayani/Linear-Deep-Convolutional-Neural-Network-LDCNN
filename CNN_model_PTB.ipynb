{
  "nbformat": 4,
  "nbformat_minor": 0,
  "metadata": {
    "colab": {
      "provenance": [],
      "authorship_tag": "ABX9TyNt+IIp7IgyhmSMpZykeK9u"
    },
    "kernelspec": {
      "name": "python3",
      "display_name": "Python 3"
    },
    "language_info": {
      "name": "python"
    }
  },
  "cells": [
    {
      "cell_type": "markdown",
      "source": [
        "**CNN model for PTB dataset:**"
      ],
      "metadata": {
        "id": "Nv2flKIi5epK"
      }
    },
    {
      "cell_type": "code",
      "source": [
        "from google.colab import drive\n",
        "drive.mount('/content/drive')"
      ],
      "metadata": {
        "colab": {
          "base_uri": "https://localhost:8080/"
        },
        "id": "dz84hKSrjZ-c",
        "outputId": "e5708792-85dd-43e5-a97a-9ac6a5428b35"
      },
      "execution_count": null,
      "outputs": [
        {
          "output_type": "stream",
          "name": "stdout",
          "text": [
            "Mounted at /content/drive\n"
          ]
        }
      ]
    },
    {
      "cell_type": "code",
      "source": [
        "import pandas as pd\n",
        "import numpy as np\n",
        "\n",
        "from keras import optimizers, losses, activations, models\n",
        "from keras.callbacks import ModelCheckpoint, EarlyStopping, LearningRateScheduler, ReduceLROnPlateau\n",
        "from keras.layers import Dense, Input, Dropout, Convolution1D, MaxPool1D, GlobalMaxPool1D, GlobalAveragePooling1D, concatenate\n",
        "from sklearn.metrics import accuracy_score, f1_score\n",
        "from sklearn.model_selection import train_test_split"
      ],
      "metadata": {
        "id": "NkxQg4vIJZbX"
      },
      "execution_count": null,
      "outputs": []
    },
    {
      "cell_type": "code",
      "source": [
        "df_1 = pd.read_csv(\"\", header=None)\n",
        "df_2 = pd.read_csv(\"\", header=None)\n",
        "df = pd.concat([df_1, df_2])"
      ],
      "metadata": {
        "id": "j1uCJEiIh0Bi"
      },
      "execution_count": null,
      "outputs": []
    },
    {
      "cell_type": "code",
      "source": [
        "class_counts = df.iloc[:, -1].value_counts()\n",
        "print(\"Number of normal samples:\", class_counts[0])\n",
        "print(\"Number of abnormal samples:\", class_counts[1])\n"
      ],
      "metadata": {
        "id": "gvybCHr1Mgky"
      },
      "execution_count": null,
      "outputs": []
    },
    {
      "cell_type": "code",
      "source": [
        "df_train, df_test = train_test_split(df, test_size=0.2, random_state=1337, stratify=df[187])"
      ],
      "metadata": {
        "id": "2lKuuaBgh2yT"
      },
      "execution_count": null,
      "outputs": []
    },
    {
      "cell_type": "code",
      "source": [
        "Y = np.array(df_train[187].values).astype(np.int8)\n",
        "X = np.array(df_train[list(range(187))].values)[..., np.newaxis]\n",
        "\n",
        "Y_test = np.array(df_test[187].values).astype(np.int8)\n",
        "X_test = np.array(df_test[list(range(187))].values)[..., np.newaxis]"
      ],
      "metadata": {
        "id": "0eouEYU8h5Dt"
      },
      "execution_count": null,
      "outputs": []
    },
    {
      "cell_type": "code",
      "source": [
        "def get_model():\n",
        "    nclass = 1\n",
        "    inp = Input(shape=(187, 1))\n",
        "    img_1 = Convolution1D(16, kernel_size=5, activation=activations.relu, padding=\"valid\")(inp)\n",
        "    img_1 = Convolution1D(16, kernel_size=5, activation=activations.relu, padding=\"valid\")(img_1)\n",
        "    img_1 = MaxPool1D(pool_size=2)(img_1)\n",
        "    img_1 = Dropout(rate=0.1)(img_1)\n",
        "    img_1 = Convolution1D(32, kernel_size=3, activation=activations.relu, padding=\"valid\")(img_1)\n",
        "    img_1 = Convolution1D(32, kernel_size=3, activation=activations.relu, padding=\"valid\")(img_1)\n",
        "    img_1 = MaxPool1D(pool_size=2)(img_1)\n",
        "    img_1 = Dropout(rate=0.1)(img_1)\n",
        "    img_1 = Convolution1D(32, kernel_size=3, activation=activations.relu, padding=\"valid\")(img_1)\n",
        "    img_1 = Convolution1D(32, kernel_size=3, activation=activations.relu, padding=\"valid\")(img_1)\n",
        "    img_1 = MaxPool1D(pool_size=2)(img_1)\n",
        "    img_1 = Dropout(rate=0.1)(img_1)\n",
        "    img_1 = Convolution1D(256, kernel_size=3, activation=activations.relu, padding=\"valid\")(img_1)\n",
        "    img_1 = Convolution1D(256, kernel_size=3, activation=activations.relu, padding=\"valid\")(img_1)\n",
        "    img_1 = GlobalMaxPool1D()(img_1)\n",
        "    img_1 = Dropout(rate=0.2)(img_1)\n",
        "\n",
        "    dense_1 = Dense(64, activation=activations.relu, name=\"dense_1\")(img_1)\n",
        "    dense_1 = Dense(64, activation=activations.relu, name=\"dense_2\")(dense_1)\n",
        "    dense_1 = Dense(nclass, activation=activations.sigmoid, name=\"dense_3_ptbdb\")(dense_1)\n",
        "\n",
        "    model = models.Model(inputs=inp, outputs=dense_1)\n",
        "    opt = optimizers.Adam(0.001)\n",
        "\n",
        "    model.compile(optimizer=opt, loss=losses.binary_crossentropy, metrics=['acc'])\n",
        "    model.summary()\n",
        "    return model\n"
      ],
      "metadata": {
        "id": "DClF_j4Qh99c"
      },
      "execution_count": null,
      "outputs": []
    },
    {
      "cell_type": "code",
      "source": [
        "model = get_model()\n",
        "file_path = \"/content/drive/MyDrive/Saved_CNN_Models_PTB/CNN_model1_weights.h5\"\n",
        "checkpoint = ModelCheckpoint(file_path, monitor='val_acc', verbose=1, save_best_only=True, mode='max')\n",
        "early = EarlyStopping(monitor=\"val_acc\", mode=\"max\", patience=5, verbose=1)\n",
        "redonplat = ReduceLROnPlateau(monitor=\"val_acc\", mode=\"max\", patience=3, verbose=2)\n",
        "callbacks_list = [checkpoint, early, redonplat]  # early"
      ],
      "metadata": {
        "colab": {
          "base_uri": "https://localhost:8080/"
        },
        "id": "FwKrs8q3iW7D",
        "outputId": "6eef253d-3bb4-42b4-d051-019b9ee1b82b"
      },
      "execution_count": null,
      "outputs": [
        {
          "output_type": "stream",
          "name": "stdout",
          "text": [
            "Model: \"model_4\"\n",
            "_________________________________________________________________\n",
            " Layer (type)                Output Shape              Param #   \n",
            "=================================================================\n",
            " input_5 (InputLayer)        [(None, 187, 1)]          0         \n",
            "                                                                 \n",
            " conv1d_32 (Conv1D)          (None, 183, 16)           96        \n",
            "                                                                 \n",
            " conv1d_33 (Conv1D)          (None, 179, 16)           1296      \n",
            "                                                                 \n",
            " max_pooling1d_12 (MaxPoolin  (None, 89, 16)           0         \n",
            " g1D)                                                            \n",
            "                                                                 \n",
            " dropout_16 (Dropout)        (None, 89, 16)            0         \n",
            "                                                                 \n",
            " conv1d_34 (Conv1D)          (None, 87, 32)            1568      \n",
            "                                                                 \n",
            " conv1d_35 (Conv1D)          (None, 85, 32)            3104      \n",
            "                                                                 \n",
            " max_pooling1d_13 (MaxPoolin  (None, 42, 32)           0         \n",
            " g1D)                                                            \n",
            "                                                                 \n",
            " dropout_17 (Dropout)        (None, 42, 32)            0         \n",
            "                                                                 \n",
            " conv1d_36 (Conv1D)          (None, 40, 32)            3104      \n",
            "                                                                 \n",
            " conv1d_37 (Conv1D)          (None, 38, 32)            3104      \n",
            "                                                                 \n",
            " max_pooling1d_14 (MaxPoolin  (None, 19, 32)           0         \n",
            " g1D)                                                            \n",
            "                                                                 \n",
            " dropout_18 (Dropout)        (None, 19, 32)            0         \n",
            "                                                                 \n",
            " conv1d_38 (Conv1D)          (None, 17, 256)           24832     \n",
            "                                                                 \n",
            " conv1d_39 (Conv1D)          (None, 15, 256)           196864    \n",
            "                                                                 \n",
            " global_max_pooling1d_4 (Glo  (None, 256)              0         \n",
            " balMaxPooling1D)                                                \n",
            "                                                                 \n",
            " dropout_19 (Dropout)        (None, 256)               0         \n",
            "                                                                 \n",
            " dense_1 (Dense)             (None, 64)                16448     \n",
            "                                                                 \n",
            " dense_2 (Dense)             (None, 64)                4160      \n",
            "                                                                 \n",
            " dense_3_ptbdb (Dense)       (None, 1)                 65        \n",
            "                                                                 \n",
            "=================================================================\n",
            "Total params: 254,641\n",
            "Trainable params: 254,641\n",
            "Non-trainable params: 0\n",
            "_________________________________________________________________\n"
          ]
        }
      ]
    },
    {
      "cell_type": "code",
      "source": [
        "history = model.fit(X, Y, epochs=1000, verbose=2, callbacks=callbacks_list, validation_split=0.1)\n",
        "model.load_weights(file_path)"
      ],
      "metadata": {
        "id": "T1ooGVQIiX5n"
      },
      "execution_count": null,
      "outputs": []
    },
    {
      "cell_type": "code",
      "source": [
        "model.save('/content/drive/MyDrive/Saved_CNN_Models_PTB/CNN_model1.h5')\n"
      ],
      "metadata": {
        "id": "eBXpHKW90dEJ"
      },
      "execution_count": null,
      "outputs": []
    },
    {
      "cell_type": "code",
      "source": [
        "pred_test = model.predict(X_test)\n",
        "pred_test = (pred_test>0.5).astype(np.int8)"
      ],
      "metadata": {
        "id": "_BKlyuE9iZXu"
      },
      "execution_count": null,
      "outputs": []
    },
    {
      "cell_type": "code",
      "source": [
        "f1 = f1_score(Y_test, pred_test)"
      ],
      "metadata": {
        "id": "i4sUzYrEia8o"
      },
      "execution_count": null,
      "outputs": []
    },
    {
      "cell_type": "code",
      "source": [
        "print(\"Test f1 score : %s \"% f1)"
      ],
      "metadata": {
        "id": "LD3s9by_icv_"
      },
      "execution_count": null,
      "outputs": []
    },
    {
      "cell_type": "code",
      "source": [
        "acc = accuracy_score(Y_test, pred_test)"
      ],
      "metadata": {
        "id": "8yZXjJkHifJB"
      },
      "execution_count": null,
      "outputs": []
    },
    {
      "cell_type": "code",
      "source": [
        "print(\"Test accuracy score : %s \"% acc)"
      ],
      "metadata": {
        "id": "ipb9hgb0ih04"
      },
      "execution_count": null,
      "outputs": []
    },
    {
      "cell_type": "code",
      "source": [
        "import matplotlib.pyplot as plt\n",
        "import seaborn as sns\n",
        "from sklearn.metrics import confusion_matrix, classification_report, precision_recall_fscore_support, accuracy_score\n",
        "\n",
        "# Create the confusion matrix\n",
        "cm = confusion_matrix(Y_test, pred_test)\n",
        "\n",
        "# Plot the confusion matrix as a heatmap\n",
        "plt.figure(figsize=(6, 6))\n",
        "sns.heatmap(cm, annot=True, fmt=\"d\", cmap=\"Blues\", xticklabels=[\"Normal\", \"Abnormal\"], yticklabels=[\"Normal\", \"Abnormal\"])\n",
        "plt.xlabel(\"Predicted Labels\")\n",
        "plt.ylabel(\"True Labels\")\n",
        "plt.title(\"Confusion Matrix\")\n",
        "plt.show()\n",
        "\n",
        "target_names = [\"Normal\", \"Abnormal\"]\n",
        "print(\"\\nClassification Report:\\n\", classification_report(Y_test, pred_test, target_names=target_names))\n"
      ],
      "metadata": {
        "id": "NpDTobMv5opN"
      },
      "execution_count": null,
      "outputs": []
    },
    {
      "cell_type": "code",
      "source": [
        "# Plot the confusion matrix as a heatmap\n",
        "plt.figure(figsize=(6, 6))\n",
        "sns.heatmap(cm, annot=True, fmt=\"d\", cmap=\"Blues\", xticklabels=[\"Normal\", \"Abnormal\"], yticklabels=[\"Normal\", \"Abnormal\"])\n",
        "plt.xlabel(\"Predicted Labels\")\n",
        "plt.ylabel(\"True Labels\")\n",
        "plt.title(\"Confusion Matrix\")\n",
        "plt.show()\n",
        "\n",
        "precision, recall, f1_score, support = precision_recall_fscore_support(Y_test, pred_test)\n",
        "\n",
        "target_names = [\"Normal\", \"Abnormal\"]\n",
        "for i, target_name in enumerate(target_names):\n",
        "    print(f\"\\nClass '{target_name}' Metrics:\")\n",
        "    print(f\"Precision: {precision[i]:.4f}\")\n",
        "    print(f\"Recall: {recall[i]:.4f}\")\n",
        "    print(f\"F1-score: {f1_score[i]:.4f}\")\n",
        "    print(f\"Support: {support[i]}\")\n",
        "\n",
        "\n",
        "# Calculate overall accuracy, precision, recall, and F1-score\n",
        "acc = accuracy_score(Y_test, pred_test)\n",
        "overall_precision = np.mean(precision)\n",
        "overall_recall = np.mean(recall)\n",
        "overall_f1_score = np.mean(f1_score)\n",
        "\n",
        "print(\"\\nOverall Accuracy:\", acc)\n",
        "print(\"Overall Precision:\", overall_precision)\n",
        "print(\"Overall Recall:\", overall_recall)\n",
        "print(\"Overall F1-score:\", overall_f1_score)\n"
      ],
      "metadata": {
        "id": "Bq9nuS3U6t1c"
      },
      "execution_count": null,
      "outputs": []
    },
    {
      "cell_type": "code",
      "source": [
        "# To load model:\n",
        "# from keras.models import load_model\n",
        "# loaded_model = load_model('/content/drive/MyDrive/Saved_CNN_Models_PTB/CNN_model1.h5')\n",
        "# history = loaded_model.history.history\n"
      ],
      "metadata": {
        "id": "xp4QIEU-3lbr"
      },
      "execution_count": null,
      "outputs": []
    },
    {
      "cell_type": "code",
      "source": [
        "history = history.history"
      ],
      "metadata": {
        "id": "Hvw_5cb9KUs-"
      },
      "execution_count": null,
      "outputs": []
    },
    {
      "cell_type": "code",
      "source": [
        "!pip install seaborn\n",
        "\n",
        "import matplotlib.pyplot as plt\n",
        "import seaborn as sns\n",
        "\n",
        "%matplotlib inline\n",
        "\n",
        "plt.rcParams[\"figure.figsize\"] = (30,6)\n",
        "plt.rcParams['lines.linewidth'] = 1\n",
        "plt.rcParams['lines.color'] = 'b'\n",
        "plt.rcParams['axes.grid'] = True"
      ],
      "metadata": {
        "id": "KFa881jXMDks"
      },
      "execution_count": null,
      "outputs": []
    },
    {
      "cell_type": "code",
      "source": [
        "# Plot training and validation accuracy\n",
        "sns.set_style('darkgrid')\n",
        "\n",
        "plt.subplot(1, 2, 1)\n",
        "plt.plot(history['acc'], label='Train')\n",
        "plt.plot(history['val_acc'], label='Test')\n",
        "plt.title('Model Accuracy', fontsize=22)\n",
        "plt.xlabel('Epoch', fontsize=19)\n",
        "plt.ylabel('Accuracy', fontsize=19)\n",
        "plt.legend(prop = {'size' : 20}, loc='lower right')\n",
        "plt.tight_layout()\n",
        "plt.show()"
      ],
      "metadata": {
        "id": "xQQ0IuS-3pie"
      },
      "execution_count": null,
      "outputs": []
    },
    {
      "cell_type": "code",
      "source": [
        "# Plot training and validation loss\n",
        "sns.set_style('darkgrid')\n",
        "\n",
        "plt.subplot(1, 2, 2)\n",
        "plt.plot(history['loss'], label='Train')\n",
        "plt.plot(history['val_loss'], label='Test')\n",
        "plt.title('Model Loss', fontsize=22)\n",
        "plt.xlabel('Epoch', fontsize=19)\n",
        "plt.ylabel('Loss', fontsize=19)\n",
        "plt.legend(prop = {'size' : 20}, loc='upper right')\n",
        "plt.tight_layout()\n",
        "plt.show()"
      ],
      "metadata": {
        "id": "LjN2BHoDL2C_"
      },
      "execution_count": null,
      "outputs": []
    }
  ]
}